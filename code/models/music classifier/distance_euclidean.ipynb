{
 "cells": [
  {
   "cell_type": "code",
   "execution_count": 15,
   "metadata": {},
   "outputs": [],
   "source": [
    "import librosa\n",
    "import numpy as np\n",
    "from scipy.spatial.distance import euclidean\n",
    "from scipy.spatial.distance import cosine\n",
    "from fastdtw import fastdtw"
   ]
  },
  {
   "cell_type": "code",
   "execution_count": 23,
   "metadata": {},
   "outputs": [],
   "source": [
    "def get_audio_features(file_path):\n",
    "    y, sr = librosa.load(file_path)\n",
    "    mfccs = librosa.feature.mfcc(y=y, sr=sr)\n",
    "    return np.mean(mfccs.T, axis=0)\n",
    "\n",
    "def compare_audio_similarity(file1, file2):\n",
    "    features1 = get_audio_features(file1)\n",
    "    features2 = get_audio_features(file2)\n",
    "    similarity = 1 - cosine(features1, features2)  # Semelhança de cosseno\n",
    "    return similarity"
   ]
  },
  {
   "cell_type": "code",
   "execution_count": 27,
   "metadata": {},
   "outputs": [],
   "source": [
    "# Caminhos das músicas\n",
    "song_path_long = '../musics_df_model/Under Pressure (Remastered 2011).wav'\n",
    "song_path_short = '../musics_df_model/Ice Ice baby.wav'"
   ]
  },
  {
   "cell_type": "code",
   "execution_count": 24,
   "metadata": {},
   "outputs": [],
   "source": [
    "song_path_long = '../musics_df_model/Drake - Hotline Bling.wav'\n",
    "song_path_short = '../musics_df_model/Anaconda.wav'"
   ]
  },
  {
   "cell_type": "code",
   "execution_count": 28,
   "metadata": {},
   "outputs": [],
   "source": [
    "similarity_score = compare_audio_similarity(song_path_long, song_path_short)"
   ]
  },
  {
   "cell_type": "code",
   "execution_count": 29,
   "metadata": {},
   "outputs": [
    {
     "name": "stdout",
     "output_type": "stream",
     "text": [
      "Similaridade entre as músicas: 0.9371304802164774\n"
     ]
    }
   ],
   "source": [
    "print(f'Similaridade entre as músicas: {similarity_score}')"
   ]
  },
  {
   "cell_type": "code",
   "execution_count": 14,
   "metadata": {},
   "outputs": [
    {
     "name": "stdout",
     "output_type": "stream",
     "text": [
      "Menor distância encontrada: 17153.164198114828\n",
      "Trecho mais similar começa em: 180.00 segundos\n"
     ]
    }
   ],
   "source": [
    "# Calcular a similaridade por janela deslizante\n",
    "min_distance, best_offset = sliding_window_similarity(song_path_long, song_path_short, window_duration=30)\n",
    "\n",
    "print(f\"Menor distância encontrada: {min_distance}\")\n",
    "print(f\"Trecho mais similar começa em: {best_offset:.2f} segundos\")"
   ]
  },
  {
   "cell_type": "code",
   "execution_count": 3,
   "metadata": {},
   "outputs": [],
   "source": [
    "# 2º Cenário\n",
    "y1, sr1 = load_song('../musics_df_model/Under Pressure (Remastered 2011).wav')\n",
    "y2, sr2 = load_song('../musics_df_model/Ice Ice baby.wav')"
   ]
  },
  {
   "cell_type": "code",
   "execution_count": 6,
   "metadata": {},
   "outputs": [],
   "source": [
    "#5º Cenário\n",
    "y1, sr1 = load_song('../musics_wav/joao_assovio.wav')\n",
    "y2, sr2 = load_song('../musics_wav/assovio.wav')"
   ]
  },
  {
   "cell_type": "code",
   "execution_count": 9,
   "metadata": {},
   "outputs": [],
   "source": [
    "# 3º Cenário\n",
    "y1, sr1 = load_song('../musics_wav/racionais.wav')\n",
    "y2, sr2 = load_song('../musics_wav/tim_maia.wav')"
   ]
  },
  {
   "cell_type": "code",
   "execution_count": 10,
   "metadata": {},
   "outputs": [],
   "source": [
    "pcp1, mfcc1, tempo1 = extract_features(y1, sr1)\n",
    "pcp2, mfcc2, tempo2 = extract_features(y2, sr2)"
   ]
  },
  {
   "cell_type": "code",
   "execution_count": 11,
   "metadata": {},
   "outputs": [
    {
     "name": "stdout",
     "output_type": "stream",
     "text": [
      "Distância entre as músicas (quanto menor, mais similar): [664840.1918038]\n"
     ]
    }
   ],
   "source": [
    "similarity_score = compare_songs(pcp1, mfcc1, tempo1, pcp2, mfcc2, tempo2)\n",
    "\n",
    "print(f\"Distância entre as músicas (quanto menor, mais similar): {similarity_score}\")"
   ]
  }
 ],
 "metadata": {
  "kernelspec": {
   "display_name": "base",
   "language": "python",
   "name": "python3"
  },
  "language_info": {
   "codemirror_mode": {
    "name": "ipython",
    "version": 3
   },
   "file_extension": ".py",
   "mimetype": "text/x-python",
   "name": "python",
   "nbconvert_exporter": "python",
   "pygments_lexer": "ipython3",
   "version": "3.12.3"
  }
 },
 "nbformat": 4,
 "nbformat_minor": 2
}
