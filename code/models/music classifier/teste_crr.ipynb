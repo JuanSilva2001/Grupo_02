{
 "cells": [
  {
   "cell_type": "code",
   "execution_count": 7,
   "metadata": {},
   "outputs": [
    {
     "name": "stdout",
     "output_type": "stream",
     "text": [
      "Distância entre as músicas (quanto menor, mais similar): 253.0\n"
     ]
    }
   ],
   "source": [
    "import librosa\n",
    "import numpy as np\n",
    "from scipy.spatial.distance import euclidean\n",
    "from fastdtw import fastdtw \n",
    "\n",
    "def load_song(path, offset=0, duration=None):\n",
    "    y, sr = librosa.load(path, offset=offset, duration=duration)\n",
    "    return y, sr\n",
    "\n",
    "def extract_pcp(y, sr, n_fft=2048, hop_length=256):\n",
    "    stft = np.abs(librosa.stft(y, n_fft=n_fft, hop_length=hop_length))\n",
    "    pcp = librosa.feature.chroma_stft(S=stft, sr=sr, n_chroma=1)\n",
    "    return pcp\n",
    "\n",
    "def compare_songs(pcp1, pcp2):\n",
    "    distance, _ = fastdtw(pcp1.T, pcp2.T, dist=euclidean)\n",
    "    return distance\n",
    "\n",
    "# 1º Cenário\n",
    "# y1, sr1 = load_song('./Belchior - Como Nossos Pais.wav')\n",
    "# # y2, sr2 = load_song('./Belchior - Como Nossos Pais.wav')\n",
    "# y2, sr2 = load_song('./Elis - Como Nossos Pais.wav')\n",
    "\n",
    "# 2º Cenário\n",
    "# y1, sr1 = load_song('./Under Pressure (Remastered 2011).wav')\n",
    "# y2, sr2 = load_song('./Vanilla Ice - Ice Ice baby (Single edit).wav')\n",
    "\n",
    "# 3º Cenário\n",
    "# y1, sr1 = load_song('./ratos.wav')\n",
    "# y2, sr2 = load_song('./eminem.wav')\n",
    "\n",
    "#4º Cenário\n",
    "y1, sr1 = load_song('./Belchior - Como Nossos Pais.wav')\n",
    "y2, sr2 = load_song('./Vanilla Ice - Ice Ice baby (Single edit).wav')\n",
    "\n",
    "pcp1 = extract_pcp(y1, sr1)\n",
    "pcp2 = extract_pcp(y2, sr2)\n",
    "\n",
    "similarity_score = compare_songs(pcp1, pcp2)\n",
    "\n",
    "print(f\"Distância entre as músicas (quanto menor, mais similar): {similarity_score}\")\n"
   ]
  },
  {
   "cell_type": "code",
   "execution_count": 10,
   "metadata": {},
   "outputs": [
    {
     "name": "stdout",
     "output_type": "stream",
     "text": [
      "              precision    recall  f1-score   support\n",
      "\n",
      "       cover       0.50      1.00      0.67         1\n",
      "    original       0.00      0.00      0.00         1\n",
      "\n",
      "    accuracy                           0.50         2\n",
      "   macro avg       0.25      0.50      0.33         2\n",
      "weighted avg       0.25      0.50      0.33         2\n",
      "\n"
     ]
    },
    {
     "data": {
      "image/png": "[encoded data removed]",
      "text/plain": [
       "<Figure size 640x480 with 2 Axes>"
      ]
     },
     "metadata": {},
     "output_type": "display_data"
    }
   ],
   "source": [
    "import librosa\n",
    "import numpy as np\n",
    "from sklearn.model_selection import train_test_split\n",
    "from sklearn.neighbors import KNeighborsClassifier\n",
    "from sklearn.metrics import classification_report, confusion_matrix\n",
    "import seaborn as sns\n",
    "import matplotlib.pyplot as plt\n",
    "\n",
    "# Função para extrair características de uma música\n",
    "def extract_features(file_path):\n",
    "    y, sr = librosa.load(file_path)\n",
    "    pcp = librosa.feature.chroma_stft(y=y, sr=sr)\n",
    "    return np.mean(pcp, axis=1)  # Exemplo: média dos PCA para cada música\n",
    "\n",
    "# Listar seus arquivos de música e suas classes\n",
    "music_files = ['ratos.wav', 'ratos_cover.wav', \"Belchior - Como Nossos Pais.wav\", \"Elis - Como Nossos Pais.wav\", 'Under Pressure (Remastered 2011).wav', \"Vanilla Ice - Ice Ice baby (Single edit).wav\"]  # Adicione seus arquivos\n",
    "labels = ['original', 'cover', 'original', 'cover', 'original', 'cover']  # Adicione as classes correspondentes\n",
    "\n",
    "# Extrair características e preparar os dados\n",
    "features = np.array([extract_features(f) for f in music_files])\n",
    "X_train, X_test, y_train, y_test = train_test_split(features, labels, test_size=0.2, random_state=42)\n",
    "\n",
    "# Treinamento do modelo\n",
    "model = KNeighborsClassifier(n_neighbors=3)\n",
    "model.fit(X_train, y_train)\n",
    "\n",
    "# Avaliação\n",
    "y_pred = model.predict(X_test)\n",
    "print(classification_report(y_test, y_pred, zero_division=0))\n",
    "\n",
    "# Gerar a matriz de confusão\n",
    "conf_matrix = confusion_matrix(y_test, y_pred)\n",
    "\n",
    "# Exibir a matriz de confusão\n",
    "sns.heatmap(conf_matrix, annot=True, fmt='d', cmap='Blues', xticklabels=['original', 'cover'], yticklabels=['original', 'cover'])\n",
    "plt.xlabel('Predito')\n",
    "plt.ylabel('Verdadeiro')\n",
    "plt.title('Matriz de Confusão')\n",
    "plt.show()\n"
   ]
  },
  {
   "cell_type": "code",
   "execution_count": null,
   "metadata": {},
   "outputs": [],
   "source": [
    "import librosa\n",
    "import numpy as np\n",
    "from scipy.spatial.distance import euclidean\n",
    "from fastdtw import fastdtw  # Alinhamento dinâmico\n",
    "\n",
    "# Função para segmentar a música em trechos de 8 compassos\n",
    "def segment_in_bars(y, sr, bpm, bars=8):\n",
    "    # Calcular a duração de um compasso (4/4) em segundos\n",
    "    seconds_per_beat = 60.0 / bpm\n",
    "    compasso_duration = seconds_per_beat * 4\n",
    "    segment_duration = compasso_duration * bars\n",
    "    \n",
    "    # Segmentar a música em 8 compassos\n",
    "    segment_length = int(segment_duration * sr)\n",
    "    segments = librosa.util.frame(y, frame_length=segment_length, hop_length=segment_length)\n",
    "    return segments\n",
    "\n",
    "# Função para carregar a música e extrair os segmentos de 8 compassos\n",
    "def load_and_segment(path, bars=8):\n",
    "    y, sr = librosa.load(path)\n",
    "    bpm = librosa.beat.tempo(y=y, sr=sr)  # Correção aqui\n",
    "    segments = segment_in_bars(y, sr, bpm, bars=bars)\n",
    "    return segments, sr\n",
    "\n",
    "# Função para comparar dois segmentos de músicas usando DTW\n",
    "def compare_segments(segment1, segment2, sr):\n",
    "    # Extrair as características tonais usando chroma_stft\n",
    "    chroma1 = librosa.feature.chroma_stft(y=segment1, sr=sr)\n",
    "    chroma2 = librosa.feature.chroma_stft(y=segment2, sr=sr)\n",
    "    \n",
    "    # Usar DTW para comparar os chroma features\n",
    "    distance, _ = fastdtw(chroma1.T, chroma2.T, dist=euclidean)\n",
    "    return distance\n",
    "\n",
    "# Carregar e segmentar as duas músicas\n",
    "# segments1, sr1 = load_and_segment('./Under Pressure (Remastered 2011).wav')\n",
    "# segments2, sr2 = load_and_segment('./Vanilla Ice - Ice Ice baby (Single edit).wav')\n",
    "\n",
    "segments1, sr1 = load_and_segment('./Belchior - Como Nossos Pais.wav')\n",
    "segments2, sr2 = load_and_segment('./Elis - Como Nossos Pais.wav')\n",
    "\n",
    "# Comparar os primeiros segmentos de 8 compassos das duas músicas\n",
    "similarity_scores = []\n",
    "for i in range(min(len(segments1.T), len(segments2.T))):  # Comparar até o número de segmentos menores\n",
    "    distance = compare_segments(segments1[:, i], segments2[:, i], sr1)\n",
    "    similarity_scores.append(distance)\n",
    "\n",
    "# Exibir as similaridades para cada par de segmentos\n",
    "for i, score in enumerate(similarity_scores):\n",
    "    print(f\"Distância entre o segmento {i+1}: {score}\")"
   ]
  },
  {
   "cell_type": "code",
   "execution_count": 1,
   "metadata": {},
   "outputs": [
    {
     "name": "stdout",
     "output_type": "stream",
     "text": [
      "Distância entre os MFCCs: 3047685.3492084267\n",
      "Distância entre os PCPs: 12422.034886926087\n"
     ]
    }
   ],
   "source": [
    "import librosa\n",
    "import numpy as np\n",
    "from scipy.spatial.distance import euclidean\n",
    "from fastdtw import fastdtw  # Alinhamento dinâmico\n",
    "\n",
    "# Função para carregar a música\n",
    "def load_song(path):\n",
    "    y, sr = librosa.load(path)\n",
    "    return y, sr\n",
    "\n",
    "# Carregar e extrair características da primeira música\n",
    "y1, sr1 = load_song('./Belchior - Como Nossos Pais.wav')\n",
    "mfcc1 = librosa.feature.mfcc(y=y1, sr=sr1, n_mfcc=13, n_fft=2048, hop_length=256, dct_type=2, center=True)\n",
    "stft1 = np.abs(librosa.stft(y1, n_fft=2048, hop_length=512))\n",
    "pcp1 = librosa.feature.chroma_stft(S=stft1, sr=sr1, n_chroma=12)\n",
    "\n",
    "# Carregar e extrair características da segunda música\n",
    "# y2, sr2 = load_song(librosa.ex('nutcracker'))  # Usei a amostra do librosa\n",
    "y2, sr2 = load_song('./Elis - Como Nossos Pais.wav')\n",
    "mfcc2 = librosa.feature.mfcc(y=y2, sr=sr2, n_mfcc=13, n_fft=2048, hop_length=256, dct_type=2, center=True)\n",
    "stft2 = np.abs(librosa.stft(y2, n_fft=2048, hop_length=512))\n",
    "pcp2 = librosa.feature.chroma_stft(S=stft2, sr=sr2, n_chroma=12)\n",
    "\n",
    "# Comparar os MFCCs e PCPs\n",
    "distance_mfcc, _ = fastdtw(mfcc1.T, mfcc2.T, dist=euclidean)\n",
    "distance_pcp, _ = fastdtw(pcp1.T, pcp2.T, dist=euclidean)\n",
    "\n",
    "print(f\"Distância entre os MFCCs: {distance_mfcc}\")\n",
    "print(f\"Distância entre os PCPs: {distance_pcp}\")\n"
   ]
  }
 ],
 "metadata": {
  "kernelspec": {
   "display_name": "Python 3",
   "language": "python",
   "name": "python3"
  },
  "language_info": {
   "codemirror_mode": {
    "name": "ipython",
    "version": 3
   },
   "file_extension": ".py",
   "mimetype": "text/x-python",
   "name": "python",
   "nbconvert_exporter": "python",
   "pygments_lexer": "ipython3",
   "version": "3.12.3"
  }
 },
 "nbformat": 4,
 "nbformat_minor": 2
}
