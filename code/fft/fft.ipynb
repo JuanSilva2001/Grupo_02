{
 "cells": [
  {
   "cell_type": "code",
   "execution_count": null,
   "metadata": {},
   "outputs": [],
   "source": [
    "# %pip install scipy\n",
    "# %pip install matplotlib\n",
    "# %pip install SpeechRecognition\n",
    "# %pip install wave\n",
    "# %pip install librosa"
   ]
  },
  {
   "cell_type": "markdown",
   "metadata": {},
   "source": [
    "Conversão para .WAV"
   ]
  },
  {
   "cell_type": "code",
   "execution_count": null,
   "metadata": {},
   "outputs": [],
   "source": [
    "# import required modules\n",
    "import subprocess\n",
    "\n",
    "# convert to wav file\n",
    "subprocess.call(['ffmpeg', '-i', 'teste.mp3',\n",
    "                 'teste.wav'])"
   ]
  },
  {
   "cell_type": "markdown",
   "metadata": {},
   "source": [
    "Conversão audios estereos para mono"
   ]
  },
  {
   "cell_type": "code",
   "execution_count": null,
   "metadata": {},
   "outputs": [],
   "source": [
    "import matplotlib.pyplot as plt\n",
    "import numpy as np\n",
    "from scipy.io import wavfile as wav\n",
    "\n",
    "rate, data = wav.read('dido2.wav')\n",
    "\n",
    "# somando os dois canais e normalizando (passando de estereo para mono)\n",
    "data = np.sum(data, axis=1) / 2 \n",
    "plt.plot(data)\n",
    "plt.xlabel('Qtd. Amostras')\n",
    "plt.ylabel('Amplitute')"
   ]
  },
  {
   "cell_type": "markdown",
   "metadata": {},
   "source": [
    "Converter qtd. amostra para tempo (Eixo X)"
   ]
  },
  {
   "cell_type": "code",
   "execution_count": null,
   "metadata": {},
   "outputs": [],
   "source": [
    "# encontrar o comprimento (total de amostras)\n",
    "n = len(data)\n",
    "\n",
    "# Frequencia de amostragem por sinal (quantas amostras por segundo)\n",
    "fs = 44100 #48khz (audio) ou 44100 44.1khz (padrao spotify apple music) \n",
    "# https://emastered.com/pt/blog/sample-rate-for-audio#:~:text=A%20melhor%20taxa%20de%20amostragem,da%20sua%20onda%20sonora%20original.\n",
    "\n",
    "\n",
    "T = 1/fs # tempo entre uma amostra e outra (inverso entre uma amostra e outra)\n",
    "\n",
    "t = np.arange(0,n/fs,T) # (vetor de tempo) começa em 0seg, vai até o valor final do comprimento / frequencia de amostragem, e vai andando de T em T (valor calculado na variavel T)\n",
    "\n",
    "plt.plot(t, data)\n",
    "plt.xlabel('Tempo (s)')\n",
    "plt.ylabel('Amplitute')"
   ]
  },
  {
   "cell_type": "markdown",
   "metadata": {},
   "source": [
    "Transformada de Fourier"
   ]
  },
  {
   "cell_type": "code",
   "execution_count": null,
   "metadata": {},
   "outputs": [],
   "source": [
    "from scipy.fft import fft, fftfreq\n",
    "import numpy as np\n",
    "import matplotlib.pyplot as plt\n",
    "\n",
    "# saindo de segundos e indo para hz\n",
    "f = fftfreq(n,T)\n",
    "\n",
    "# numero complexo (transformada)\n",
    "transf = fft(data)\n",
    "\n",
    "# módulo - para tirar os números complexos (módulo)\n",
    "transf = np.abs(transf)\n",
    "\n",
    "plt.plot(f[f > 0],transf[f > 0]*1/n) # mascara para pegar apenas os sinais com frequencias maiores que zeros e normalização o eixo vertical (dividir a transformada pelo tamanho do sinal)\n",
    "plt.xlabel('Frequência (Hz)')\n",
    "plt.ylabel('Amplitute')\n",
    "\n",
    "\n",
    "# plt.ylim([0, 50])\n",
    "# plt.xlim([0, 30])\n",
    "len(transf[f > 0]*1/n)\n"
   ]
  },
  {
   "cell_type": "code",
   "execution_count": null,
   "metadata": {},
   "outputs": [],
   "source": [
    "import pandas as pd\n",
    "\n",
    "df_transf = pd.DataFrame(transf[f > 0]*1/n)\n",
    "df_transf.columns = ['Amplitude']\n",
    "df_valores = pd.DataFrame()\n",
    "\n",
    "cont = 0\n",
    "hashtags = []\n",
    "f_hashtag = ''\n",
    "\n",
    "for i in range(0, int(df_transf['Amplitude'].max()) + 100, 10) :\n",
    "   cont = 0\n",
    "   for j in df_transf['Amplitude']:\n",
    "      if j > i :  \n",
    "         cont+=1\n",
    "   # print(f'Número de valores de Amplitude maiores que {i} e menores que {i+100}: {cont}')\n",
    "   if (cont > 0):\n",
    "      hashtag = f\"{i}{i+100}{cont}\"\n",
    "      hashtags.append(hashtag)\n",
    "   \n",
    "f_hashtag = ' '.join(hashtags)\n",
    "\n",
    "print(f'Hashtag para essa música: {f_hashtag}')\n"
   ]
  },
  {
   "cell_type": "code",
   "execution_count": null,
   "metadata": {},
   "outputs": [],
   "source": [
    "# chunksize = 1024 # tamanho que o array será dividido (cada chunk tem esse tamanho) 1024 elementos\n",
    "# chunks = int(len(transf) / chunksize)\n",
    "# result = []\n",
    "\n",
    "# for j in range(chunks):\n",
    "#     arraychunk = np.zeros(chunksize) # criação de novo array preenchido com zero\n",
    "#     for i in range(chunksize):\n",
    "#         arraychunk[i] = transf[(j * chunksize) + i] # mapeando a porção do array transf correspondente ao pedaço j no arraychunk\n",
    "#     result.append(arraychunk)\n",
    "# print(result[0][0])"
   ]
  },
  {
   "cell_type": "code",
   "execution_count": null,
   "metadata": {},
   "outputs": [],
   "source": [
    "ranges = np.arange(40, 301, 10)  # Intervalos de 10 em 10 Hz\n",
    "fuzfactor = 1  # Fator de ajuste menor para mais precisão\n",
    "\n",
    "# Inicialização dos highscores e points para os intervalos de interesse\n",
    "highscores = [0] * len(ranges)\n",
    "points = [0] * len(ranges)\n",
    "\n",
    "# Processamento da transformada completa\n",
    "for freq in range(40, 301):\n",
    "    if transf[freq] > 0:\n",
    "        mag = np.log(np.abs(transf[freq]) + 1)\n",
    "        i = 0\n",
    "        while i < len(ranges) and ranges[i] < freq:\n",
    "            i += 1\n",
    "        if i < len(ranges) and mag > highscores[i]:\n",
    "            highscores[i] = mag\n",
    "            points[i] = freq\n",
    "\n",
    "# Cálculo da hashtag única com mais detalhes\n",
    "h = 0\n",
    "for i in range(len(points)):\n",
    "    h += (points[i] - (points[i] % fuzfactor)) * (10 ** (len(points) - i - 1))\n",
    "\n",
    "print(f\"Hashtag: {h}\")\n",
    "\n",
    "# Extraindo os pontos individuais para leitura\n",
    "h_copy = h\n",
    "extracted_points = []\n",
    "\n",
    "for i in range(len(points)):\n",
    "    factor = 10 ** (len(points) - i - 1)\n",
    "    point = (h_copy // factor) * fuzfactor\n",
    "    extracted_points.append(point)\n",
    "    h_copy %= factor\n",
    "\n",
    "print(f\"Frequencias: {extracted_points}\")\n"
   ]
  },
  {
   "cell_type": "code",
   "execution_count": null,
   "metadata": {},
   "outputs": [],
   "source": [
    "import librosa\n",
    "\n",
    "S = librosa.stft(f, n_fft=320, hop_length=10, win_length=320)\n",
    "S = np.abs(S)"
   ]
  },
  {
   "cell_type": "code",
   "execution_count": null,
   "metadata": {},
   "outputs": [],
   "source": [
    "import librosa.display as dp\n",
    "\n",
    "dp.specshow(librosa.amplitude_to_db(S, ref=np.max), y_axis='log', x_axis='time', sr=fs)"
   ]
  }
 ],
 "metadata": {
  "kernelspec": {
   "display_name": "Python 3",
   "language": "python",
   "name": "python3"
  },
  "language_info": {
   "codemirror_mode": {
    "name": "ipython",
    "version": 3
   },
   "file_extension": ".py",
   "mimetype": "text/x-python",
   "name": "python",
   "nbconvert_exporter": "python",
   "pygments_lexer": "ipython3",
   "version": "3.12.3"
  }
 },
 "nbformat": 4,
 "nbformat_minor": 2
}
