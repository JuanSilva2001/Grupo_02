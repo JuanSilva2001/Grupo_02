{
 "cells": [
  {
   "cell_type": "code",
   "execution_count": 1,
   "metadata": {},
   "outputs": [],
   "source": [
    "# %pip install librosa\n",
    "# %pip install scikit-learn\n",
    "# %pip install soundfile\n"
   ]
  },
  {
   "cell_type": "code",
   "execution_count": 2,
   "metadata": {},
   "outputs": [],
   "source": [
    "import pathlib\n",
    "import warnings\n",
    "import subprocess\n",
    "import numpy as np\n",
    "import librosa\n",
    "import pandas as pd\n",
    "import matplotlib.pyplot as plt\n",
    "\n",
    "from sklearn.preprocessing import StandardScaler\n",
    "from sklearn.neighbors import KNeighborsClassifier\n",
    "from sklearn.model_selection import train_test_split\n",
    "from sklearn.decomposition import PCA\n",
    "from sklearn.metrics import accuracy_score, classification_report\n",
    "import joblib\n",
    "from sklearn.pipeline import make_pipeline\n",
    "\n",
    "warnings.filterwarnings('ignore', category=FutureWarning)"
   ]
  },
  {
   "cell_type": "code",
   "execution_count": 3,
   "metadata": {},
   "outputs": [],
   "source": [
    "# DataFrame global para armazenar todas as músicas processadas\n",
    "df_master_songs = pd.DataFrame()"
   ]
  },
  {
   "cell_type": "code",
   "execution_count": 4,
   "metadata": {},
   "outputs": [],
   "source": [
    "def cleasing(song):\n",
    "    # Fazer tratamento para se o nome da música já tiver no Bucket\n",
    "    song = pathlib.Path(song)\n",
    "    song_name = song.stem\n",
    "    if song.suffix != '.wav':\n",
    "        subprocess.call(['ffmpeg', '-i', str(song), f'{song_name}.wav'])\n",
    "    return song"
   ]
  },
  {
   "cell_type": "code",
   "execution_count": 5,
   "metadata": {},
   "outputs": [],
   "source": [
    "def stft(song, number):\n",
    "    global df_master_songs\n",
    "    y, sr = librosa.load(song, sr=None, mono=True)\n",
    "    \n",
    "    S = librosa.stft(y, n_fft=2048, hop_length=512, win_length=1024)\n",
    "    S = np.abs(S)\n",
    "\n",
    "    max_indices = np.argwhere(S == np.max(S, axis=0))\n",
    "    times = librosa.frames_to_time(max_indices[:, 1], sr=sr)\n",
    "    frequencies = librosa.fft_frequencies(sr=sr)[max_indices[:, 0]]\n",
    "    \n",
    "    # Criação do DataFrame da música atual\n",
    "    df_song = pd.DataFrame({'Frequencia': frequencies, 'Tempo': times})\n",
    "    \n",
    "    # Atribuir o valor de target para todas as linhas\n",
    "    df_song['target'] = number\n",
    "    \n",
    "    # Concatenando no DataFrame global\n",
    "    df_master_songs = pd.concat([df_master_songs, df_song], ignore_index=True)\n",
    "\n",
    "    return df_master_songs"
   ]
  },
  {
   "cell_type": "code",
   "execution_count": 6,
   "metadata": {},
   "outputs": [],
   "source": [
    "def training_model(data):\n",
    "    # Remover a coluna 'target' do conjunto de features\n",
    "    target = data.pop('target')\n",
    "    X = data\n",
    "    y = target\n",
    "\n",
    "    # Divisão entre treino e teste\n",
    "    X_train, X_test, y_train, y_test = train_test_split(X, y, test_size=0.2)\n",
    "\n",
    "    # Ajustar o scaler com os dados de treino\n",
    "    scaler = StandardScaler()\n",
    "    X_train_n = scaler.fit_transform(X_train)  # Ajustar e transformar os dados de treino\n",
    "    X_test_n = scaler.transform(X_test)        # Transformar os dados de teste\n",
    "\n",
    "    # Redução de dimensionalidade usando PCA\n",
    "    pca = PCA(n_components=2)\n",
    "    X_train_pca = pca.fit_transform(X_train_n)\n",
    "    X_test_pca = pca.transform(X_test_n)\n",
    "\n",
    "    # Converte as variáveis de target para inteiros\n",
    "    y_train_int = y_train.astype(int)\n",
    "    y_test_int = y_test.astype(int)\n",
    "\n",
    "    # KNN    \n",
    "    k_values = list(range(2, 15))\n",
    "    metrics = []\n",
    "\n",
    "    # Loop para encontrar o melhor valor de k\n",
    "    for k in k_values:\n",
    "        knn = KNeighborsClassifier(n_neighbors=k)\n",
    "        knn.fit(X_train_pca, y_train_int)\n",
    "        \n",
    "        y_test_int_pred = knn.predict(X_test_pca)\n",
    "        test_accuracy = accuracy_score(y_test_int, y_test_int_pred)\n",
    "        metrics.append({\n",
    "            'k': k,\n",
    "            'accuracy': test_accuracy,\n",
    "            'classification_report': classification_report(y_test_int, y_test_int_pred, output_dict=True),\n",
    "        })\n",
    "\n",
    "    # Selecionar o melhor k\n",
    "    best_metric = max(metrics, key=lambda m: m['accuracy'])\n",
    "    knn_best = KNeighborsClassifier(n_neighbors=best_metric[\"k\"])\n",
    "\n",
    "    # Treinamento final do melhor KNN\n",
    "    knn_best.fit(X_train_pca, y_train_int)\n",
    "\n",
    "    # Criar o pipeline com o scaler ajustado e o modelo treinado\n",
    "    pipe = make_pipeline(scaler, knn_best)\n",
    "\n",
    "    # Salvar o pipeline treinado\n",
    "    joblib.dump(pipe, 'model.pkl')\n",
    "\n",
    "    return print('Treinamento realizado com sucesso!')"
   ]
  },
  {
   "cell_type": "code",
   "execution_count": 7,
   "metadata": {},
   "outputs": [],
   "source": [
    "def visualization(prediction):\n",
    "    cont0 = 0\n",
    "    cont1 = 0\n",
    "    cont2 = 0\n",
    "    cont3 = 0\n",
    "\n",
    "    for i in range(len(prediction)):\n",
    "        if prediction[i] == 3:\n",
    "            cont3 += 1\n",
    "        elif prediction[i] == 2:\n",
    "            cont2 += 1\n",
    "        elif prediction[i] == 1:\n",
    "            cont1 += 1\n",
    "        elif prediction[i] == 0:\n",
    "            cont0 += 1\n",
    "\n",
    "    labels = ['Audio', 'Dido Cover 1', 'Dido Cover 2', 'Leans']\n",
    "    frequencies = [cont0, cont1, cont2, cont3]\n",
    "\n",
    "    plt.bar(labels, frequencies, color='blue')\n",
    "    plt.xlabel('Valores')\n",
    "    plt.ylabel('Frequência')\n",
    "    plt.title('Frequência dos Valores')\n",
    "    plt.show()\n",
    "\n",
    "    return frequencies"
   ]
  },
  {
   "cell_type": "code",
   "execution_count": 8,
   "metadata": {},
   "outputs": [],
   "source": [
    "def etl(song, type, number):\n",
    "    if type == 'training':\n",
    "        song_clean = cleasing(song)\n",
    "        stft(song_clean, number)\n",
    "        if not df_master_songs.empty:\n",
    "            return print('Base de músicas atualizada com sucesso!')\n",
    "        else:\n",
    "            return print('Dados insuficientes/vazio...')\n",
    "    \n",
    "    elif type == 'predict':\n",
    "        knn_from_joblib = joblib.load('model.pkl')\n",
    "        song_clean = cleasing(song)\n",
    "        song_stft = stft(song_clean, number)\n",
    "        \n",
    "        if not song_stft.empty:\n",
    "            # Remover a coluna 'target' antes da predição\n",
    "            song_stft_predict = song_stft.drop(columns=['target'])\n",
    "            prediction = knn_from_joblib.predict(song_stft_predict)\n",
    "            viz = visualization(prediction)\n",
    "            return viz\n",
    "        else:\n",
    "            return print('Dados insuficientes para predição...')\n"
   ]
  },
  {
   "cell_type": "code",
   "execution_count": 9,
   "metadata": {},
   "outputs": [
    {
     "name": "stdout",
     "output_type": "stream",
     "text": [
      "Base de músicas atualizada com sucesso!\n",
      "Base de músicas atualizada com sucesso!\n",
      "Base de músicas atualizada com sucesso!\n",
      "Base de músicas atualizada com sucesso!\n",
      "Treinamento realizado com sucesso!\n"
     ]
    }
   ],
   "source": [
    "etl('./musics/audio.mp3', 'training', 0)\n",
    "etl('./musics/dido2.mp3', 'training', 1)\n",
    "etl('./musics/dido3.mp3', 'training', 2)\n",
    "etl('./musics/leans.mp3', 'training', 3)\n",
    "\n",
    "training_model(df_master_songs)"
   ]
  },
  {
   "cell_type": "code",
   "execution_count": 10,
   "metadata": {},
   "outputs": [
    {
     "name": "stderr",
     "output_type": "stream",
     "text": [
      "C:\\Users\\User\\AppData\\Local\\Temp\\ipykernel_15592\\2737690900.py:3: UserWarning: PySoundFile failed. Trying audioread instead.\n",
      "  y, sr = librosa.load(song, sr=None, mono=True)\n"
     ]
    },
    {
     "data": {
      "image/png": "[encoded data removed]",
      "text/plain": [
       "<Figure size 640x480 with 1 Axes>"
      ]
     },
     "metadata": {},
     "output_type": "display_data"
    },
    {
     "data": {
      "text/plain": [
       "[0, 120895, 193164, 187092]"
      ]
     },
     "execution_count": 10,
     "metadata": {},
     "output_type": "execute_result"
    }
   ],
   "source": [
    "etl('./musics/dido.m4a', 'predict', 0)"
   ]
  }
 ],
 "metadata": {
  "kernelspec": {
   "display_name": "Python 3",
   "language": "python",
   "name": "python3"
  },
  "language_info": {
   "codemirror_mode": {
    "name": "ipython",
    "version": 3
   },
   "file_extension": ".py",
   "mimetype": "text/x-python",
   "name": "python",
   "nbconvert_exporter": "python",
   "pygments_lexer": "ipython3",
   "version": "3.11.4"
  }
 },
 "nbformat": 4,
 "nbformat_minor": 2
}
