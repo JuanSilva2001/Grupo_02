{
 "cells": [
  {
   "cell_type": "code",
   "execution_count": 1,
   "id": "c7aac7cb",
   "metadata": {},
   "outputs": [
    {
     "name": "stdout",
     "output_type": "stream",
     "text": [
      "\u001b[33mWARNING: Running pip install with root privileges is generally not a good idea. Try `python3 -m pip install --user` instead.\u001b[0m\n",
      "Requirement already satisfied: scipy in /usr/local/lib64/python3.7/site-packages (1.7.3)\n",
      "Requirement already satisfied: numpy<1.23.0,>=1.16.5 in /usr/local/lib64/python3.7/site-packages (from scipy) (1.21.6)\n",
      "Note: you may need to restart the kernel to use updated packages.\n",
      "\u001b[33mWARNING: Running pip install with root privileges is generally not a good idea. Try `python3 -m pip install --user` instead.\u001b[0m\n",
      "Requirement already satisfied: matplotlib in /usr/local/lib64/python3.7/site-packages (3.5.3)\n",
      "Requirement already satisfied: numpy>=1.17 in /usr/local/lib64/python3.7/site-packages (from matplotlib) (1.21.6)\n",
      "Requirement already satisfied: python-dateutil>=2.7 in /usr/local/lib/python3.7/site-packages (from matplotlib) (2.9.0.post0)\n",
      "Requirement already satisfied: pillow>=6.2.0 in /usr/local/lib64/python3.7/site-packages (from matplotlib) (9.5.0)\n",
      "Requirement already satisfied: cycler>=0.10 in /usr/local/lib/python3.7/site-packages (from matplotlib) (0.11.0)\n",
      "Requirement already satisfied: fonttools>=4.22.0 in /usr/local/lib/python3.7/site-packages (from matplotlib) (4.38.0)\n",
      "Requirement already satisfied: kiwisolver>=1.0.1 in /usr/local/lib64/python3.7/site-packages (from matplotlib) (1.4.5)\n",
      "Requirement already satisfied: packaging>=20.0 in /usr/local/lib/python3.7/site-packages (from matplotlib) (24.0)\n",
      "Requirement already satisfied: pyparsing>=2.2.1 in /usr/local/lib/python3.7/site-packages (from matplotlib) (3.1.2)\n",
      "Requirement already satisfied: six>=1.5 in /usr/local/lib/python3.7/site-packages (from python-dateutil>=2.7->matplotlib) (1.16.0)\n",
      "Requirement already satisfied: typing-extensions; python_version < \"3.8\" in /usr/local/lib/python3.7/site-packages (from kiwisolver>=1.0.1->matplotlib) (4.7.1)\n",
      "Note: you may need to restart the kernel to use updated packages.\n",
      "\u001b[33mWARNING: Running pip install with root privileges is generally not a good idea. Try `python3 -m pip install --user` instead.\u001b[0m\n",
      "Requirement already satisfied: wave in /usr/local/lib/python3.7/site-packages (0.0.2)\n",
      "Note: you may need to restart the kernel to use updated packages.\n",
      "\u001b[33mWARNING: Running pip install with root privileges is generally not a good idea. Try `python3 -m pip install --user` instead.\u001b[0m\n",
      "Requirement already satisfied: boto3 in /usr/local/lib/python3.7/site-packages (1.33.13)\n",
      "Requirement already satisfied: jmespath<2.0.0,>=0.7.1 in /usr/local/lib/python3.7/site-packages (from boto3) (1.0.1)\n",
      "Requirement already satisfied: botocore<1.34.0,>=1.33.13 in /usr/local/lib/python3.7/site-packages (from boto3) (1.33.13)\n",
      "Requirement already satisfied: s3transfer<0.9.0,>=0.8.2 in /usr/local/lib/python3.7/site-packages (from boto3) (0.8.2)\n",
      "Requirement already satisfied: python-dateutil<3.0.0,>=2.1 in /usr/local/lib/python3.7/site-packages (from botocore<1.34.0,>=1.33.13->boto3) (2.9.0.post0)\n",
      "Requirement already satisfied: urllib3<1.27,>=1.25.4; python_version < \"3.10\" in /usr/local/lib/python3.7/site-packages (from botocore<1.34.0,>=1.33.13->boto3) (1.26.18)\n",
      "Requirement already satisfied: six>=1.5 in /usr/local/lib/python3.7/site-packages (from python-dateutil<3.0.0,>=2.1->botocore<1.34.0,>=1.33.13->boto3) (1.16.0)\n",
      "Note: you may need to restart the kernel to use updated packages.\n",
      "\u001b[33mWARNING: Running pip install with root privileges is generally not a good idea. Try `python3 -m pip install --user` instead.\u001b[0m\n",
      "Requirement already satisfied: dbutils in /usr/local/lib/python3.7/site-packages (3.1.0)\n",
      "Note: you may need to restart the kernel to use updated packages.\n",
      "\u001b[33mWARNING: Running pip install with root privileges is generally not a good idea. Try `python3 -m pip install --user` instead.\u001b[0m\n",
      "Requirement already satisfied: numpy in /usr/local/lib64/python3.7/site-packages (1.21.6)\n",
      "Note: you may need to restart the kernel to use updated packages.\n"
     ]
    }
   ],
   "source": [
    "%pip install scipy\n",
    "%pip install matplotlib\n",
    "%pip install wave\n",
    "%pip install boto3\n",
    "%pip install dbutils\n",
    "%pip install numpy"
   ]
  },
  {
   "cell_type": "code",
   "execution_count": 2,
   "id": "a9812d1d",
   "metadata": {},
   "outputs": [
    {
     "name": "stderr",
     "output_type": "stream",
     "text": [
      "/usr/local/lib/python3.7/site-packages/boto3/compat.py:82: PythonDeprecationWarning: Boto3 will no longer support Python 3.7 starting December 13, 2023. To continue receiving service updates, bug fixes, and security updates please upgrade to Python 3.8 or later. More information can be found here: https://aws.amazon.com/blogs/developer/python-support-policy-updates-for-aws-sdks-and-tools/\n",
      "  warnings.warn(warning, PythonDeprecationWarning)\n"
     ]
    }
   ],
   "source": [
    "import boto3\n",
    "\n",
    "# Configurar o cliente S3\n",
    "s3 = boto3.client('s3')\n",
    "\n",
    "# Baixar o arquivo .mp3 do S3 para o sistema de arquivos local\n",
    "bucket_name = 'bucketuserterminator'\n",
    "file_key = 'musics_raw/joao.ogg'\n",
    "local_file_path = '/tmp/joao.ogg'\n",
    "\n",
    "s3.download_file(bucket_name, file_key, local_file_path)"
   ]
  },
  {
   "cell_type": "code",
   "execution_count": 12,
   "id": "be1a5795",
   "metadata": {},
   "outputs": [
    {
     "name": "stderr",
     "output_type": "stream",
     "text": [
      "ffmpeg version 7.0-static https://johnvansickle.com/ffmpeg/  Copyright (c) 2000-2024 the FFmpeg developers\n",
      "  built with gcc 8 (Debian 8.3.0-6)\n",
      "  configuration: --enable-gpl --enable-version3 --enable-static --disable-debug --disable-ffplay --disable-indev=sndio --disable-outdev=sndio --cc=gcc --enable-fontconfig --enable-frei0r --enable-gnutls --enable-gmp --enable-libgme --enable-gray --enable-libaom --enable-libfribidi --enable-libass --enable-libvmaf --enable-libfreetype --enable-libmp3lame --enable-libopencore-amrnb --enable-libopencore-amrwb --enable-libopenjpeg --enable-librubberband --enable-libsoxr --enable-libspeex --enable-libsrt --enable-libvorbis --enable-libopus --enable-libtheora --enable-libvidstab --enable-libvo-amrwbenc --enable-libvpx --enable-libwebp --enable-libx264 --enable-libx265 --enable-libxml2 --enable-libdav1d --enable-libxvid --enable-libzvbi --enable-libzimg\n",
      "  libavutil      59.  8.100 / 59.  8.100\n",
      "  libavcodec     61.  3.100 / 61.  3.100\n",
      "  libavformat    61.  1.100 / 61.  1.100\n",
      "  libavdevice    61.  1.100 / 61.  1.100\n",
      "  libavfilter    10.  1.100 / 10.  1.100\n",
      "  libswscale      8.  1.100 /  8.  1.100\n",
      "  libswresample   5.  1.100 /  5.  1.100\n",
      "  libpostproc    58.  1.100 / 58.  1.100\n",
      "Input #0, ogg, from '/tmp/joao.ogg':\n",
      "  Duration: 00:00:12.82, start: 0.002167, bitrate: 18 kb/s\n",
      "  Stream #0:0: Audio: opus, 48000 Hz, mono, fltp\n",
      "Stream mapping:\n",
      "  Stream #0:0 -> #0:0 (opus (native) -> pcm_s16le (native))\n",
      "Press [q] to stop, [?] for help\n",
      "Output #0, wav, to '/tmp/joao_ogg.wav':\n",
      "  Metadata:\n",
      "    ISFT            : Lavf61.1.100\n",
      "  Stream #0:0: Audio: pcm_s16le ([1][0][0][0] / 0x0001), 48000 Hz, mono, s16, 768 kb/s\n",
      "      Metadata:\n",
      "        encoder         : Lavc61.3.100 pcm_s16le\n",
      "[out#0/wav @ 0x8809000] video:0KiB audio:1202KiB subtitle:0KiB other streams:0KiB global headers:0KiB muxing overhead: 0.006339%\n",
      "size=    1202KiB time=00:00:12.81 bitrate= 768.0kbits/s speed= 207x    \n"
     ]
    },
    {
     "data": {
      "text/plain": [
       "0"
      ]
     },
     "execution_count": 12,
     "metadata": {},
     "output_type": "execute_result"
    }
   ],
   "source": [
    "# import required modules\n",
    "import subprocess\n",
    "\n",
    "# convert to wav file\n",
    "subprocess.call(['ffmpeg', '-y', '-i', '/tmp/joao.ogg',\n",
    "                 '/tmp/joao_ogg.wav'])"
   ]
  },
  {
   "cell_type": "code",
   "execution_count": 14,
   "id": "3fdd68de",
   "metadata": {},
   "outputs": [
    {
     "name": "stdout",
     "output_type": "stream",
     "text": [
      "Arquivo carregado com sucesso.\n"
     ]
    }
   ],
   "source": [
    "session = boto3.Session()\n",
    "s3 = session.client('s3')\n",
    "# Ler o arquivo em modo binário\n",
    "try:\n",
    "    with open(local_file_path, 'rb') as file_data:\n",
    "        # Carregar o arquivo para o S3\n",
    "        response = s3.put_object(Body=file_data, Bucket=bucket_name, Key=file_key)\n",
    "    print(\"Arquivo carregado com sucesso.\")\n",
    "except FileNotFoundError:\n",
    "    print(f\"Arquivo não encontrado: {local_file_path}\")\n",
    "except Exception as e:\n",
    "    print(f\"Erro ao carregar o arquivo: {e}\")"
   ]
  }
 ],
 "metadata": {
  "kernelspec": {
   "display_name": "Python 3 (ipykernel)",
   "language": "python",
   "name": "python3"
  },
  "language_info": {
   "codemirror_mode": {
    "name": "ipython",
    "version": 3
   },
   "file_extension": ".py",
   "mimetype": "text/x-python",
   "name": "python",
   "nbconvert_exporter": "python",
   "pygments_lexer": "ipython3",
   "version": "3.7.16"
  }
 },
 "nbformat": 4,
 "nbformat_minor": 5
}
