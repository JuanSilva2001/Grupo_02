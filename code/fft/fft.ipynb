{
 "cells": [
  {
   "cell_type": "code",
   "execution_count": null,
   "metadata": {},
   "outputs": [],
   "source": [
    "# %pip install scipy\n",
    "# %pip install matplotlib\n",
    "# %pip install SpeechRecognition\n",
    "# %pip install wave\n",
    "%pip install dtw-python"
   ]
  },
  {
   "cell_type": "code",
   "execution_count": null,
   "metadata": {},
   "outputs": [],
   "source": [
    "from dtw import * \n",
    "dtw\n",
    "help(DTW)"
   ]
  },
  {
   "cell_type": "markdown",
   "metadata": {},
   "source": [
    "Conversão para .WAV"
   ]
  },
  {
   "cell_type": "code",
   "execution_count": null,
   "metadata": {},
   "outputs": [],
   "source": [
    "# # import required modules\n",
    "# import subprocess\n",
    "\n",
    "# # convert to wav file\n",
    "# subprocess.call(['ffmpeg', '-i', 'racionais.mp3',\n",
    "#                  'racionais.wav'])"
   ]
  },
  {
   "cell_type": "markdown",
   "metadata": {},
   "source": [
    "Conversão audios estereos para mono"
   ]
  },
  {
   "cell_type": "code",
   "execution_count": null,
   "metadata": {},
   "outputs": [],
   "source": [
    "import matplotlib.pyplot as plt\n",
    "import numpy as np\n",
    "from scipy.io import wavfile as wav\n",
    "\n",
    "rate, data = wav.read('joao.wav')\n",
    "\n",
    "# somando os dois canais e normalizando (passando de estereo para mono)\n",
    "# data = np.sum(data, axis=1) / 2 \n",
    "plt.plot(data)\n",
    "plt.xlabel('Qtd. Amostras')\n",
    "plt.ylabel('Amplitute')"
   ]
  },
  {
   "cell_type": "markdown",
   "metadata": {},
   "source": [
    "Converter qtd. amostra para tempo (Eixo X)"
   ]
  },
  {
   "cell_type": "code",
   "execution_count": null,
   "metadata": {},
   "outputs": [],
   "source": [
    "# encontrar o comprimento (total de amostras)\n",
    "n = len(data)\n",
    "\n",
    "# Frequencia de amostragem por sinal (quantas amostras por segundo)\n",
    "fs = 48000 #48khz (audio) ou 44100 44.1khz (padrao spotify apple music) \n",
    "# https://emastered.com/pt/blog/sample-rate-for-audio#:~:text=A%20melhor%20taxa%20de%20amostragem,da%20sua%20onda%20sonora%20original.\n",
    "\n",
    "\n",
    "T = 1/fs # tempo entre uma amostra e outra (inverso entre uma amostra e outra)\n",
    "\n",
    "t = np.arange(0,n/fs,T) # (vetor de tempo) começa em 0seg, vai até o valor final do comprimento / frequencia de amostragem, e vai andando de T em T (valor calculado na variavel T)\n",
    "\n",
    "plt.plot(t, data)\n",
    "plt.xlabel('Tempo (s)')\n",
    "plt.ylabel('Amplitute')"
   ]
  },
  {
   "cell_type": "markdown",
   "metadata": {},
   "source": [
    "Transformada de Fourier"
   ]
  },
  {
   "cell_type": "code",
   "execution_count": null,
   "metadata": {},
   "outputs": [],
   "source": [
    "from scipy.fft import fft, fftfreq\n",
    "import numpy as np\n",
    "import matplotlib.pyplot as plt\n",
    "\n",
    "# saindo de segundos e indo para hz\n",
    "f = fftfreq(n,T)\n",
    "\n",
    "# numero complexo (transformada)\n",
    "transf = fft(data)\n",
    "\n",
    "# módulo - para tirar os números complexos (módulo)\n",
    "transf = np.abs(transf)\n",
    "\n",
    "plt.plot(f[f > 0],transf[f > 0]*1/n) # mascara para pegar apenas os sinais com frequencias maiores que zeros e normalização o eixo vertical (dividir a transformada pelo tamanho do sinal)\n",
    "plt.xlabel('Frequência (Hz)')\n",
    "plt.ylabel('Amplitute')"
   ]
  },
  {
   "cell_type": "code",
   "execution_count": null,
   "metadata": {},
   "outputs": [],
   "source": [
    "chunksize = 1024\n",
    "chunks = int(len(transf) / chunksize)\n",
    "result = []\n",
    "\n",
    "for j in range(chunks):\n",
    "    arraychunk = np.zeros(chunksize)\n",
    "    for i in range(chunksize):\n",
    "        arraychunk[i] = transf[(j * chunksize) + i]\n",
    "    result.append(arraychunk)\n",
    "print(result[0])"
   ]
  },
  {
   "cell_type": "code",
   "execution_count": null,
   "metadata": {},
   "outputs": [],
   "source": [
    "ranges = np.array([40, 80, 120, 180, 300])\n",
    "fuzfactor = 2\n",
    "\n",
    "result_length = len(result)\n",
    "highscores = [[0] * len(ranges) for _ in range(result_length)]\n",
    "points = [[0] * len(ranges) for _ in range(result_length)]\n",
    "\n",
    "for t in range(result_length):\n",
    "    for freq in range(40, 300):\n",
    "        \n",
    "        if result[t][freq] > 0:\n",
    "            \n",
    "            mag = np.log(np.abs(result[t][freq]) + 1)\n",
    "\n",
    "            \n",
    "            i = 0\n",
    "            while ranges[i] < freq:\n",
    "                i += 1\n",
    "            index = i\n",
    "\n",
    "           \n",
    "            if mag > highscores[t][index]:\n",
    "                highscores[t][index] = mag\n",
    "                points[t][index] = freq\n",
    "    \n",
    "    \n",
    "    h = (points[t][3] - (points[t][3] % fuzfactor)) * 100000000 + \\\n",
    "        (points[t][2] - (points[t][2] % fuzfactor)) * 100000 + \\\n",
    "        (points[t][1] - (points[t][1] % fuzfactor)) * 100 + \\\n",
    "        (points[t][0] - (points[t][0] % fuzfactor))\n",
    "    \n",
    "print(f\"hashtag for music is: {h}\")"
   ]
  }
 ],
 "metadata": {
  "kernelspec": {
   "display_name": "Python 3",
   "language": "python",
   "name": "python3"
  },
  "language_info": {
   "codemirror_mode": {
    "name": "ipython",
    "version": 3
   },
   "file_extension": ".py",
   "mimetype": "text/x-python",
   "name": "python",
   "nbconvert_exporter": "python",
   "pygments_lexer": "ipython3",
   "version": "3.10.12"
  }
 },
 "nbformat": 4,
 "nbformat_minor": 2
}
