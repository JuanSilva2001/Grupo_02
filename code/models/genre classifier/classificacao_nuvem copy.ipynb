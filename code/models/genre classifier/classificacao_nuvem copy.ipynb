{
 "cells": [
  {
   "cell_type": "code",
   "execution_count": 1,
   "metadata": {},
   "outputs": [
    {
     "name": "stderr",
     "output_type": "stream",
     "text": [
      "[nltk_data] Downloading package punkt to\n",
      "[nltk_data]     C:\\Users\\joao.victor.ribeiro\\AppData\\Roaming\\nltk_data\n",
      "[nltk_data]     ...\n",
      "[nltk_data]   Package punkt is already up-to-date!\n",
      "[nltk_data] Downloading package stopwords to\n",
      "[nltk_data]     C:\\Users\\joao.victor.ribeiro\\AppData\\Roaming\\nltk_data\n",
      "[nltk_data]     ...\n",
      "[nltk_data]   Package stopwords is already up-to-date!\n"
     ]
    },
    {
     "data": {
      "text/plain": [
       "True"
      ]
     },
     "execution_count": 1,
     "metadata": {},
     "output_type": "execute_result"
    }
   ],
   "source": [
    "import nltk\n",
    "from nltk.tokenize import word_tokenize\n",
    "from nltk.corpus import stopwords\n",
    "from sklearn.feature_extraction.text import TfidfVectorizer\n",
    "from sklearn.model_selection import train_test_split\n",
    "from sklearn.naive_bayes import MultinomialNB\n",
    "from sklearn import metrics\n",
    "import pandas as pd\n",
    "import re\n",
    "from itertools import chain\n",
    "import pickle\n",
    "import joblib\n",
    "\n",
    "# Download NLTK data\n",
    "nltk.download('punkt')\n",
    "nltk.download('stopwords')\n"
   ]
  },
  {
   "cell_type": "code",
   "execution_count": 2,
   "metadata": {},
   "outputs": [],
   "source": [
    "artists = pd.read_csv('artists-data.csv')\n",
    "songs = pd.read_csv('lyrics-data.csv')"
   ]
  },
  {
   "cell_type": "code",
   "execution_count": 3,
   "metadata": {},
   "outputs": [],
   "source": [
    "genres_list = [str(s).split(';') for s in artists['Genres'].unique()]\n",
    "res = list(chain(*genres_list))\n",
    "res = [gen.strip() for gen in res]\n",
    "genres = list(set(res))"
   ]
  },
  {
   "cell_type": "code",
   "execution_count": 4,
   "metadata": {},
   "outputs": [],
   "source": [
    "for genre in genres:\n",
    "    contains = [True if re.search(genre, str(art_gen)) else False for art_gen in artists['Genres']]\n",
    "    artists[genre] = contains"
   ]
  },
  {
   "cell_type": "code",
   "execution_count": 5,
   "metadata": {},
   "outputs": [],
   "source": [
    "all_songs = songs.merge(artists, how='outer', left_on='ALink', right_on='Link')"
   ]
  },
  {
   "cell_type": "code",
   "execution_count": 6,
   "metadata": {},
   "outputs": [],
   "source": [
    "no_country = all_songs[all_songs['Country']==False].sample(n=2500, random_state=1)\n",
    "yes_country = all_songs[all_songs['Country']==True].sample(n=2500, random_state=1)\n",
    "no_rock = all_songs[all_songs['Rock']==False].sample(n=2500, random_state=1)\n",
    "yes_rock = all_songs[all_songs['Rock']==True].sample(n=2500, random_state=1)\n",
    "no_rap = all_songs[all_songs['Rap']==False].sample(n=2500, random_state=1)\n",
    "yes_rap = all_songs[all_songs['Rap']==True].sample(n=2500, random_state=1)"
   ]
  },
  {
   "cell_type": "code",
   "execution_count": 7,
   "metadata": {},
   "outputs": [],
   "source": [
    "all_songs = pd.concat([no_country, yes_country, no_rock, yes_rock, no_rap, yes_rap]).reset_index(drop=True)"
   ]
  },
  {
   "cell_type": "code",
   "execution_count": 8,
   "metadata": {},
   "outputs": [],
   "source": [
    "lyrics = all_songs['Lyric'].astype(str)\n",
    "low = [lyr.lower() for lyr in lyrics]\n",
    "tokenized = [word_tokenize(lyr) for lyr in low]\n",
    "stop_words = set(stopwords.words('english'))\n",
    "stop_vec = [[w for w in tok if w not in stop_words] for tok in tokenized]\n",
    "clean_vec = [[word for word in lyr if word.isalpha()] for lyr in stop_vec]"
   ]
  },
  {
   "cell_type": "code",
   "execution_count": 9,
   "metadata": {},
   "outputs": [],
   "source": [
    "lyrics = [' '.join(lyr) for lyr in clean_vec]\n",
    "vectorize = TfidfVectorizer(min_df=5, max_df=0.8)\n",
    "vectors = vectorize.fit_transform(lyrics)\n",
    "feature_names = vectorize.get_feature_names_out()\n",
    "dense = vectors.todense()\n",
    "dense_list = dense.tolist()\n",
    "df = pd.DataFrame(dense_list, columns=feature_names)"
   ]
  },
  {
   "cell_type": "code",
   "execution_count": 10,
   "metadata": {},
   "outputs": [],
   "source": [
    "df['Country'] = all_songs['Country'].copy()\n",
    "df['Rock'] = all_songs['Rock'].copy()\n",
    "df['Rap'] = all_songs['Rap'].copy()"
   ]
  },
  {
   "cell_type": "code",
   "execution_count": 11,
   "metadata": {},
   "outputs": [],
   "source": [
    "genres = ['Country', 'Rock', 'Rap']\n",
    "models = {}"
   ]
  },
  {
   "cell_type": "code",
   "execution_count": 12,
   "metadata": {},
   "outputs": [
    {
     "name": "stdout",
     "output_type": "stream",
     "text": [
      "Results for Country:\n",
      "Accuracy: 0.8253333333333334\n",
      "Precision: 0.6262626262626263\n",
      "Recall: 0.21602787456445993\n",
      "Confusion Matrix: \n",
      "[[3528  111]\n",
      " [ 675  186]]\n",
      "\n",
      "Results for Rock:\n",
      "Accuracy: 0.7206666666666667\n",
      "Precision: 0.5460434983803795\n",
      "Recall: 0.8104395604395604\n",
      "Confusion Matrix: \n",
      "[[2063  981]\n",
      " [ 276 1180]]\n",
      "\n",
      "Results for Rap:\n",
      "Accuracy: 0.9042222222222223\n",
      "Precision: 0.7940761636107193\n",
      "Recall: 0.6639150943396226\n",
      "Confusion Matrix: \n",
      "[[3506  146]\n",
      " [ 285  563]]\n",
      "\n"
     ]
    }
   ],
   "source": [
    "for genre in genres:\n",
    "    y = df[genre].copy()\n",
    "    x = df.drop(genres, axis=1)  # Remove all genre columns\n",
    "    x_train, x_test, y_train, y_test = train_test_split(x, y, test_size=0.30, random_state=42)\n",
    "    \n",
    "    clf = MultinomialNB(alpha=0.1)\n",
    "    clf.fit(x_train, y_train.astype(bool))\n",
    "    models[genre] = clf\n",
    "    \n",
    "    y_pred = clf.predict(x_test)\n",
    "\n",
    "    accuracy = metrics.accuracy_score(y_test.astype(bool), y_pred)\n",
    "    precision = metrics.precision_score(y_test.astype(bool), y_pred)\n",
    "    recall = metrics.recall_score(y_test.astype(bool), y_pred)\n",
    "    confusion_matrix = metrics.confusion_matrix(y_test.astype(bool), y_pred)\n",
    "    \n",
    "    print(f\"Results for {genre}:\")\n",
    "    print(f\"Accuracy: {accuracy}\")\n",
    "    print(f\"Precision: {precision}\")\n",
    "    print(f\"Recall: {recall}\")\n",
    "    print(f\"Confusion Matrix: \\n{confusion_matrix}\\n\")"
   ]
  },
  {
   "cell_type": "code",
   "execution_count": 13,
   "metadata": {},
   "outputs": [],
   "source": [
    "def read_txt_file(file_path):\n",
    "    with open(file_path, 'r', encoding='utf-8') as file:\n",
    "        content = file.read()\n",
    "    return content"
   ]
  },
  {
   "cell_type": "code",
   "execution_count": 14,
   "metadata": {},
   "outputs": [
    {
     "data": {
      "text/html": [
       "<div>\n",
       "<style scoped>\n",
       "    .dataframe tbody tr th:only-of-type {\n",
       "        vertical-align: middle;\n",
       "    }\n",
       "\n",
       "    .dataframe tbody tr th {\n",
       "        vertical-align: top;\n",
       "    }\n",
       "\n",
       "    .dataframe thead th {\n",
       "        text-align: right;\n",
       "    }\n",
       "</style>\n",
       "<table border=\"1\" class=\"dataframe\">\n",
       "  <thead>\n",
       "    <tr style=\"text-align: right;\">\n",
       "      <th></th>\n",
       "      <th>lyrics</th>\n",
       "    </tr>\n",
       "  </thead>\n",
       "  <tbody>\n",
       "    <tr>\n",
       "      <th>0</th>\n",
       "      <td>I used to spend my nights out in a barroom\\nLi...</td>\n",
       "    </tr>\n",
       "  </tbody>\n",
       "</table>\n",
       "</div>"
      ],
      "text/plain": [
       "                                              lyrics\n",
       "0  I used to spend my nights out in a barroom\\nLi..."
      ]
     },
     "execution_count": 14,
     "metadata": {},
     "output_type": "execute_result"
    }
   ],
   "source": [
    "file_path = 'lyric.txt'\n",
    "text_content = read_txt_file(file_path)\n",
    "df = pd.DataFrame({'lyrics': [text_content]})\n",
    "df"
   ]
  },
  {
   "cell_type": "code",
   "execution_count": 15,
   "metadata": {},
   "outputs": [],
   "source": [
    "csv_path = 'lyric.csv'\n",
    "\n",
    "df.to_csv(csv_path, index=False)"
   ]
  },
  {
   "cell_type": "code",
   "execution_count": 16,
   "metadata": {},
   "outputs": [
    {
     "data": {
      "text/plain": [
       "[['I',\n",
       "  'used',\n",
       "  'spend',\n",
       "  'night',\n",
       "  'barroom',\n",
       "  'Liquor',\n",
       "  'love',\n",
       "  'known',\n",
       "  'But',\n",
       "  'rescued',\n",
       "  'bottom',\n",
       "  'And',\n",
       "  'brought',\n",
       "  'back',\n",
       "  'far',\n",
       "  'gone',\n",
       "  'smooth',\n",
       "  'Tennessee',\n",
       "  'whiskey',\n",
       "  'sweet',\n",
       "  'strawberry',\n",
       "  'wine',\n",
       "  'warm',\n",
       "  'glass',\n",
       "  'brandy',\n",
       "  'And',\n",
       "  'honey',\n",
       "  'I',\n",
       "  'stay',\n",
       "  'stoned',\n",
       "  'love',\n",
       "  'time',\n",
       "  'looked',\n",
       "  'love',\n",
       "  'old',\n",
       "  'place',\n",
       "  'Found',\n",
       "  'bottom',\n",
       "  'bottle',\n",
       "  'always',\n",
       "  'dry',\n",
       "  'But',\n",
       "  'poured',\n",
       "  'heart',\n",
       "  'I',\n",
       "  'waste',\n",
       "  'nothing',\n",
       "  'like',\n",
       "  'love',\n",
       "  'get',\n",
       "  'high',\n",
       "  'smooth',\n",
       "  'Tennessee',\n",
       "  'whiskey',\n",
       "  'sweet',\n",
       "  'strawberry',\n",
       "  'wine',\n",
       "  'warm',\n",
       "  'glass',\n",
       "  'brandy',\n",
       "  'And',\n",
       "  'honey',\n",
       "  'I',\n",
       "  'stay',\n",
       "  'stoned',\n",
       "  'love',\n",
       "  'time',\n",
       "  'smooth',\n",
       "  'Tennessee',\n",
       "  'whiskey',\n",
       "  'sweet',\n",
       "  'strawberry',\n",
       "  'wine',\n",
       "  'warm',\n",
       "  'glass',\n",
       "  'brandy',\n",
       "  'And',\n",
       "  'honey',\n",
       "  'I',\n",
       "  'stay',\n",
       "  'stoned',\n",
       "  'love',\n",
       "  'time',\n",
       "  'You',\n",
       "  'smooth',\n",
       "  'Tennessee',\n",
       "  'whiskey',\n",
       "  'Tennessee',\n",
       "  'whiskey',\n",
       "  'Tennessee',\n",
       "  'whiskey',\n",
       "  'You',\n",
       "  'smooth',\n",
       "  'Tennessee',\n",
       "  'whiskey',\n",
       "  'Tennessee',\n",
       "  'whiskey',\n",
       "  'Tennessee',\n",
       "  'whiskey']]"
      ]
     },
     "execution_count": 16,
     "metadata": {},
     "output_type": "execute_result"
    }
   ],
   "source": [
    "tay = pd.read_csv('lyric.csv', encoding='latin1')\n",
    "tay.columns\n",
    "teste = tay['lyrics']\n",
    "tokenized = [word_tokenize(lyr) for lyr in teste.astype(str)]\n",
    "stop_vec = [[w for w in tok if w not in stop_words] for tok in tokenized]\n",
    "clean_vec = [[word for word in lyr if word.isalpha()] for lyr in stop_vec]\n",
    "wnet = nltk.WordNetLemmatizer()\n",
    "lem = [[wnet.lemmatize(w) for w in lyr] for lyr in clean_vec]\n",
    "\n",
    "lem"
   ]
  },
  {
   "cell_type": "code",
   "execution_count": 17,
   "metadata": {},
   "outputs": [
    {
     "data": {
      "text/plain": [
       "['I used spend night barroom Liquor love known But rescued bottom And brought back far gone smooth Tennessee whiskey sweet strawberry wine warm glass brandy And honey I stay stoned love time looked love old place Found bottom bottle always dry But poured heart I waste nothing like love get high smooth Tennessee whiskey sweet strawberry wine warm glass brandy And honey I stay stoned love time smooth Tennessee whiskey sweet strawberry wine warm glass brandy And honey I stay stoned love time You smooth Tennessee whiskey Tennessee whiskey Tennessee whiskey You smooth Tennessee whiskey Tennessee whiskey Tennessee whiskey']"
      ]
     },
     "execution_count": 17,
     "metadata": {},
     "output_type": "execute_result"
    }
   ],
   "source": [
    "lyrics_tay = [' '.join(lyr) for lyr in lem]\n",
    "single_entry = vectorize.transform(lyrics_tay)\n",
    "s_e = single_entry.todense().tolist()\n",
    "\n",
    "lyrics_tay"
   ]
  },
  {
   "cell_type": "code",
   "execution_count": 18,
   "metadata": {},
   "outputs": [
    {
     "name": "stderr",
     "output_type": "stream",
     "text": [
      "c:\\Python312\\Lib\\site-packages\\sklearn\\base.py:493: UserWarning: X does not have valid feature names, but MultinomialNB was fitted with feature names\n",
      "  warnings.warn(\n",
      "c:\\Python312\\Lib\\site-packages\\sklearn\\base.py:493: UserWarning: X does not have valid feature names, but MultinomialNB was fitted with feature names\n",
      "  warnings.warn(\n",
      "c:\\Python312\\Lib\\site-packages\\sklearn\\base.py:493: UserWarning: X does not have valid feature names, but MultinomialNB was fitted with feature names\n",
      "  warnings.warn(\n"
     ]
    }
   ],
   "source": [
    "predictions = {genre: clf.predict(s_e) for genre in genres}"
   ]
  },
  {
   "cell_type": "code",
   "execution_count": 21,
   "metadata": {},
   "outputs": [
    {
     "name": "stdout",
     "output_type": "stream",
     "text": [
      "Country: 80.62%\n",
      "Rock: 48.71%\n",
      "Rap: 9.14%\n"
     ]
    },
    {
     "name": "stderr",
     "output_type": "stream",
     "text": [
      "c:\\Python312\\Lib\\site-packages\\sklearn\\base.py:493: UserWarning: X does not have valid feature names, but MultinomialNB was fitted with feature names\n",
      "  warnings.warn(\n",
      "c:\\Python312\\Lib\\site-packages\\sklearn\\base.py:493: UserWarning: X does not have valid feature names, but MultinomialNB was fitted with feature names\n",
      "  warnings.warn(\n",
      "c:\\Python312\\Lib\\site-packages\\sklearn\\base.py:493: UserWarning: X does not have valid feature names, but MultinomialNB was fitted with feature names\n",
      "  warnings.warn(\n"
     ]
    }
   ],
   "source": [
    "probabilities = {genre: models[genre].predict_proba(s_e)[0][1] for genre in genres}\n",
    "\n",
    "for genre, prob in probabilities.items():\n",
    "    print(f\"{genre}: {prob * 100:.2f}%\")\n",
    "    with open(f\"{genre}_model.pkl\", \"wb\") as f:\n",
    "        pickle.dump(models[genre], f)"
   ]
  },
  {
   "cell_type": "code",
   "execution_count": 20,
   "metadata": {},
   "outputs": [],
   "source": [
    "with open(\"vectorize.pkl\", \"wb\") as f:\n",
    "    pickle.dump(vectorize, f)"
   ]
  }
 ],
 "metadata": {
  "kernelspec": {
   "display_name": "Python 3",
   "language": "python",
   "name": "python3"
  },
  "language_info": {
   "codemirror_mode": {
    "name": "ipython",
    "version": 3
   },
   "file_extension": ".py",
   "mimetype": "text/x-python",
   "name": "python",
   "nbconvert_exporter": "python",
   "pygments_lexer": "ipython3",
   "version": "3.12.4"
  }
 },
 "nbformat": 4,
 "nbformat_minor": 2
}
