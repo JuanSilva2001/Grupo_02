{
 "cells": [
  {
   "cell_type": "markdown",
   "metadata": {},
   "source": [
    "# Music Plagiarism Detector\n",
    "\n",
    "Neste notebook, vamos criar um modelo básico para detectar plágio musical usando STFT, MFCC e comparação de distâncias Euclidianas.\n"
   ]
  },
  {
   "cell_type": "code",
   "execution_count": 59,
   "metadata": {},
   "outputs": [],
   "source": [
    "import numpy as np\n",
    "import librosa\n",
    "import soundfile as sf\n",
    "import os \n",
    "import pandas as pd"
   ]
  },
  {
   "cell_type": "code",
   "execution_count": 60,
   "metadata": {},
   "outputs": [],
   "source": [
    "def loadAndSplit(fileName,filePath,destinationPath):\n",
    "    y,sr=librosa.load(filePath+fileName)\n",
    "    segment_length=sr*5\n",
    "    num_segments = int(np.ceil(len(y) / segment_length))\n",
    "    split=[]\n",
    "    for i in range(num_segments):\n",
    "        t = y[i * segment_length: (i + 1) * segment_length]\n",
    "        split.append(t)\n",
    "    for i in range(num_segments):\n",
    "        fileNoMP3=fileName[:-4]\n",
    "        sf.write(destinationPath+fileNoMP3+\".mp3\",split[i],sr)\n",
    "    return \"Done!\""
   ]
  },
  {
   "cell_type": "code",
   "execution_count": 61,
   "metadata": {},
   "outputs": [],
   "source": [
    "def readSplitFiles(filePath):\n",
    "    file_names=os.listdir(filePath)\n",
    "    samples=[]\n",
    "    for file in file_names:\n",
    "        y,sr=sf.read(filePath+file,always_2d=True)\n",
    "        y=y.flatten('F')[:y.shape[0]]\n",
    "        mfcc_mean=[np.mean(feature) for feature in librosa.feature.mfcc(y=y)]\n",
    "        samples.append(mfcc_mean)\n",
    "    return samples"
   ]
  },
  {
   "cell_type": "code",
   "execution_count": 62,
   "metadata": {},
   "outputs": [
    {
     "ename": "LibsndfileError",
     "evalue": "Error opening './Class_1_Split_Files/Under Pressure (Remastered 2011).mp3': System error.",
     "output_type": "error",
     "traceback": [
      "\u001b[1;31m---------------------------------------------------------------------------\u001b[0m",
      "\u001b[1;31mLibsndfileError\u001b[0m                           Traceback (most recent call last)",
      "Cell \u001b[1;32mIn[62], line 10\u001b[0m\n\u001b[0;32m      8\u001b[0m Class_1_File_Names\u001b[38;5;241m=\u001b[39mos\u001b[38;5;241m.\u001b[39mlistdir(Class_1_Original_Files)\n\u001b[0;32m      9\u001b[0m \u001b[38;5;28;01mfor\u001b[39;00m file \u001b[38;5;129;01min\u001b[39;00m Class_1_File_Names:\n\u001b[1;32m---> 10\u001b[0m   \u001b[43mloadAndSplit\u001b[49m\u001b[43m(\u001b[49m\u001b[43mfile\u001b[49m\u001b[43m,\u001b[49m\u001b[43mClass_1_Original_Files\u001b[49m\u001b[43m,\u001b[49m\u001b[43mClass_1_Split_Files\u001b[49m\u001b[43m)\u001b[49m\n\u001b[0;32m     11\u001b[0m Class_1_Samples\u001b[38;5;241m=\u001b[39mreadSplitFiles(Class_1_Split_Files)\n\u001b[0;32m     12\u001b[0m Class_1_DF\u001b[38;5;241m=\u001b[39mpd\u001b[38;5;241m.\u001b[39mDataFrame(Class_1_Samples)\n",
      "Cell \u001b[1;32mIn[60], line 11\u001b[0m, in \u001b[0;36mloadAndSplit\u001b[1;34m(fileName, filePath, destinationPath)\u001b[0m\n\u001b[0;32m      9\u001b[0m \u001b[38;5;28;01mfor\u001b[39;00m i \u001b[38;5;129;01min\u001b[39;00m \u001b[38;5;28mrange\u001b[39m(num_segments):\n\u001b[0;32m     10\u001b[0m     fileNoMP3\u001b[38;5;241m=\u001b[39mfileName[:\u001b[38;5;241m-\u001b[39m\u001b[38;5;241m4\u001b[39m]\n\u001b[1;32m---> 11\u001b[0m     \u001b[43msf\u001b[49m\u001b[38;5;241;43m.\u001b[39;49m\u001b[43mwrite\u001b[49m\u001b[43m(\u001b[49m\u001b[43mdestinationPath\u001b[49m\u001b[38;5;241;43m+\u001b[39;49m\u001b[43mfileNoMP3\u001b[49m\u001b[38;5;241;43m+\u001b[39;49m\u001b[38;5;124;43m\"\u001b[39;49m\u001b[38;5;124;43m.mp3\u001b[39;49m\u001b[38;5;124;43m\"\u001b[39;49m\u001b[43m,\u001b[49m\u001b[43msplit\u001b[49m\u001b[43m[\u001b[49m\u001b[43mi\u001b[49m\u001b[43m]\u001b[49m\u001b[43m,\u001b[49m\u001b[43msr\u001b[49m\u001b[43m)\u001b[49m\n\u001b[0;32m     12\u001b[0m \u001b[38;5;28;01mreturn\u001b[39;00m \u001b[38;5;124m\"\u001b[39m\u001b[38;5;124mDone!\u001b[39m\u001b[38;5;124m\"\u001b[39m\n",
      "File \u001b[1;32mc:\\Users\\matheus.f.cunha\\AppData\\Local\\Programs\\Python\\Python312\\Lib\\site-packages\\soundfile.py:343\u001b[0m, in \u001b[0;36mwrite\u001b[1;34m(file, data, samplerate, subtype, endian, format, closefd)\u001b[0m\n\u001b[0;32m    341\u001b[0m \u001b[38;5;28;01melse\u001b[39;00m:\n\u001b[0;32m    342\u001b[0m     channels \u001b[38;5;241m=\u001b[39m data\u001b[38;5;241m.\u001b[39mshape[\u001b[38;5;241m1\u001b[39m]\n\u001b[1;32m--> 343\u001b[0m \u001b[38;5;28;01mwith\u001b[39;00m \u001b[43mSoundFile\u001b[49m\u001b[43m(\u001b[49m\u001b[43mfile\u001b[49m\u001b[43m,\u001b[49m\u001b[43m \u001b[49m\u001b[38;5;124;43m'\u001b[39;49m\u001b[38;5;124;43mw\u001b[39;49m\u001b[38;5;124;43m'\u001b[39;49m\u001b[43m,\u001b[49m\u001b[43m \u001b[49m\u001b[43msamplerate\u001b[49m\u001b[43m,\u001b[49m\u001b[43m \u001b[49m\u001b[43mchannels\u001b[49m\u001b[43m,\u001b[49m\n\u001b[0;32m    344\u001b[0m \u001b[43m               \u001b[49m\u001b[43msubtype\u001b[49m\u001b[43m,\u001b[49m\u001b[43m \u001b[49m\u001b[43mendian\u001b[49m\u001b[43m,\u001b[49m\u001b[43m \u001b[49m\u001b[38;5;28;43mformat\u001b[39;49m\u001b[43m,\u001b[49m\u001b[43m \u001b[49m\u001b[43mclosefd\u001b[49m\u001b[43m)\u001b[49m \u001b[38;5;28;01mas\u001b[39;00m f:\n\u001b[0;32m    345\u001b[0m     f\u001b[38;5;241m.\u001b[39mwrite(data)\n",
      "File \u001b[1;32mc:\\Users\\matheus.f.cunha\\AppData\\Local\\Programs\\Python\\Python312\\Lib\\site-packages\\soundfile.py:658\u001b[0m, in \u001b[0;36mSoundFile.__init__\u001b[1;34m(self, file, mode, samplerate, channels, subtype, endian, format, closefd)\u001b[0m\n\u001b[0;32m    655\u001b[0m \u001b[38;5;28mself\u001b[39m\u001b[38;5;241m.\u001b[39m_mode \u001b[38;5;241m=\u001b[39m mode\n\u001b[0;32m    656\u001b[0m \u001b[38;5;28mself\u001b[39m\u001b[38;5;241m.\u001b[39m_info \u001b[38;5;241m=\u001b[39m _create_info_struct(file, mode, samplerate, channels,\n\u001b[0;32m    657\u001b[0m                                  \u001b[38;5;28mformat\u001b[39m, subtype, endian)\n\u001b[1;32m--> 658\u001b[0m \u001b[38;5;28mself\u001b[39m\u001b[38;5;241m.\u001b[39m_file \u001b[38;5;241m=\u001b[39m \u001b[38;5;28;43mself\u001b[39;49m\u001b[38;5;241;43m.\u001b[39;49m\u001b[43m_open\u001b[49m\u001b[43m(\u001b[49m\u001b[43mfile\u001b[49m\u001b[43m,\u001b[49m\u001b[43m \u001b[49m\u001b[43mmode_int\u001b[49m\u001b[43m,\u001b[49m\u001b[43m \u001b[49m\u001b[43mclosefd\u001b[49m\u001b[43m)\u001b[49m\n\u001b[0;32m    659\u001b[0m \u001b[38;5;28;01mif\u001b[39;00m \u001b[38;5;28mset\u001b[39m(mode)\u001b[38;5;241m.\u001b[39missuperset(\u001b[38;5;124m'\u001b[39m\u001b[38;5;124mr+\u001b[39m\u001b[38;5;124m'\u001b[39m) \u001b[38;5;129;01mand\u001b[39;00m \u001b[38;5;28mself\u001b[39m\u001b[38;5;241m.\u001b[39mseekable():\n\u001b[0;32m    660\u001b[0m     \u001b[38;5;66;03m# Move write position to 0 (like in Python file objects)\u001b[39;00m\n\u001b[0;32m    661\u001b[0m     \u001b[38;5;28mself\u001b[39m\u001b[38;5;241m.\u001b[39mseek(\u001b[38;5;241m0\u001b[39m)\n",
      "File \u001b[1;32mc:\\Users\\matheus.f.cunha\\AppData\\Local\\Programs\\Python\\Python312\\Lib\\site-packages\\soundfile.py:1216\u001b[0m, in \u001b[0;36mSoundFile._open\u001b[1;34m(self, file, mode_int, closefd)\u001b[0m\n\u001b[0;32m   1213\u001b[0m \u001b[38;5;28;01mif\u001b[39;00m file_ptr \u001b[38;5;241m==\u001b[39m _ffi\u001b[38;5;241m.\u001b[39mNULL:\n\u001b[0;32m   1214\u001b[0m     \u001b[38;5;66;03m# get the actual error code\u001b[39;00m\n\u001b[0;32m   1215\u001b[0m     err \u001b[38;5;241m=\u001b[39m _snd\u001b[38;5;241m.\u001b[39msf_error(file_ptr)\n\u001b[1;32m-> 1216\u001b[0m     \u001b[38;5;28;01mraise\u001b[39;00m LibsndfileError(err, prefix\u001b[38;5;241m=\u001b[39m\u001b[38;5;124m\"\u001b[39m\u001b[38;5;124mError opening \u001b[39m\u001b[38;5;132;01m{0!r}\u001b[39;00m\u001b[38;5;124m: \u001b[39m\u001b[38;5;124m\"\u001b[39m\u001b[38;5;241m.\u001b[39mformat(\u001b[38;5;28mself\u001b[39m\u001b[38;5;241m.\u001b[39mname))\n\u001b[0;32m   1217\u001b[0m \u001b[38;5;28;01mif\u001b[39;00m mode_int \u001b[38;5;241m==\u001b[39m _snd\u001b[38;5;241m.\u001b[39mSFM_WRITE:\n\u001b[0;32m   1218\u001b[0m     \u001b[38;5;66;03m# Due to a bug in libsndfile version <= 1.0.25, frames != 0\u001b[39;00m\n\u001b[0;32m   1219\u001b[0m     \u001b[38;5;66;03m# when opening a named pipe in SFM_WRITE mode.\u001b[39;00m\n\u001b[0;32m   1220\u001b[0m     \u001b[38;5;66;03m# See http://github.com/erikd/libsndfile/issues/77.\u001b[39;00m\n\u001b[0;32m   1221\u001b[0m     \u001b[38;5;28mself\u001b[39m\u001b[38;5;241m.\u001b[39m_info\u001b[38;5;241m.\u001b[39mframes \u001b[38;5;241m=\u001b[39m \u001b[38;5;241m0\u001b[39m\n",
      "\u001b[1;31mLibsndfileError\u001b[0m: Error opening './Class_1_Split_Files/Under Pressure (Remastered 2011).mp3': System error."
     ]
    }
   ],
   "source": [
    "# Definindo os diretórios para as classes\n",
    "Class_1_Original_Files = './Class_1_Original_Files/'\n",
    "Class_1_Split_Files = './Class_1_Split_Files/'\n",
    "Class_2_Original_Files = './Class_2_Original_Files/'\n",
    "Class_2_Split_Files = './Class_2_Split_Files/'\n",
    "\n",
    "# creating Class 1 frame\n",
    "Class_1_File_Names=os.listdir(Class_1_Original_Files)\n",
    "for file in Class_1_File_Names:\n",
    "  loadAndSplit(file,Class_1_Original_Files,Class_1_Split_Files)\n",
    "Class_1_Samples=readSplitFiles(Class_1_Split_Files)\n",
    "Class_1_DF=pd.DataFrame(Class_1_Samples)\n",
    "Class_1_DF['Class']=1\n",
    "# creating Class 2 frame\n",
    "Class_2_File_Names=os.listdir(Class_2_Original_Files)\n",
    "for file in Class_2_File_Names:\n",
    "  loadAndSplit(file,Class_2_Original_Files,Class_2_Split_Files)\n",
    "Class_2_Samples=readSplitFiles(Class_2_Split_Files)\n",
    "Class_2_DF=pd.DataFrame(Class_2_Samples)\n",
    "Class_2_DF['Class']=2\n",
    "# merging all samples to one DataFrame\n",
    "df=pd.concat([Class_1_DF,Class_2_DF],axis=0)"
   ]
  },
  {
   "cell_type": "code",
   "execution_count": 29,
   "metadata": {},
   "outputs": [],
   "source": [
    "# importing required libraries\n",
    "from sklearn.model_selection import train_test_split, cross_val_score\n",
    "from sklearn.preprocessing import MinMaxScaler\n",
    "from sklearn.pipeline import Pipeline\n",
    "from sklearn.compose import ColumnTransformer\n",
    "from sklearn.metrics import classification_report\n",
    "from sklearn.neighbors import KNeighborsClassifier\n",
    "from sklearn.model_selection import GridSearchCV\n",
    "# creating test and train data\n",
    "X=df.drop('Class',axis=1)\n",
    "X=sm.tools.add_constant(X)\n",
    "y=df['Class']\n",
    "X_train,X_test,y_train,y_test=train_test_split(X,y,random_state=0)\n",
    "# setting up pipeline\n",
    "numeric_columns=X.columns.tolist()\n",
    "numeric_pipeline=Pipeline([('numscaler',MinMaxScaler())])\n",
    "ct=ColumnTransformer([('numpipe',numeric_pipeline,numeric_columns)])\n",
    "knn_pipe=Pipeline([('preprocess',ct),\n",
    "                   ('model',KNeighborsClassifier())])\n",
    "# setting up gridsearch \n",
    "grid_params = {'model__n_neighbors': [3, 5, 7, 9, 11, 15],\n",
    "               'model__weights': ['uniform', 'distance'],\n",
    "               'model__metric': ['euclidean', 'manhattan']}\n",
    "grid = GridSearchCV(estimator=knn_pipe, param_grid=grid_params, \n",
    "                    cv=5, n_jobs=-1)\n",
    "# fitting and predicting\n",
    "grid.fit(X_train, y_train)\n",
    "y_pred=grid.predict(X_test)\n",
    "y_pred_prob=grid.predict_proba(X_test)\n",
    "# creating and displaying classification report\n",
    "clf_report=classification_report(y_test,y_pred,output_dict=True)\n",
    "pd.DataFrame(clf_report)"
   ]
  }
 ],
 "metadata": {
  "kernelspec": {
   "display_name": "Python 3",
   "language": "python",
   "name": "python3"
  },
  "language_info": {
   "codemirror_mode": {
    "name": "ipython",
    "version": 3
   },
   "file_extension": ".py",
   "mimetype": "text/x-python",
   "name": "python",
   "nbconvert_exporter": "python",
   "pygments_lexer": "ipython3",
   "version": "3.12.3"
  }
 },
 "nbformat": 4,
 "nbformat_minor": 2
}
